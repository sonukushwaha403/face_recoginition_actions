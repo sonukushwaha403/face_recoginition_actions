{
 "cells": [
  {
   "cell_type": "code",
   "execution_count": null,
   "metadata": {},
   "outputs": [],
   "source": [
    "import cv2\n",
    "import numpy as np"
   ]
  },
  {
   "cell_type": "code",
   "execution_count": null,
   "metadata": {},
   "outputs": [],
   "source": [
    "# pre-created haarcascade model\n",
    "face_classifier = cv2.CascadeClassifier('../../haarcascade_frontalface_default.xml')"
   ]
  },
  {
   "cell_type": "code",
   "execution_count": null,
   "metadata": {},
   "outputs": [],
   "source": [
    "# function (that returns cropped image)\n",
    "def face_cropper(img):\n",
    "    \n",
    "    \n",
    "    gray = cv2.cvtColor(img,cv2.COLOR_BGR2GRAY)\n",
    "    faces = face_classifier.detectMultiScale(gray, 1.3, 2)#()\n",
    "    \n",
    "    if faces is ():\n",
    "        return None\n",
    "    \n",
    "    # Crop all faces encountered\n",
    "    for (x,y,w,h) in faces:\n",
    "        cropped_face = img[y:y+h, x:x+w]\n",
    "\n",
    "    return cropped_face"
   ]
  },
  {
   "cell_type": "code",
   "execution_count": null,
   "metadata": {},
   "outputs": [],
   "source": [
    "# camera started\n",
    "cap = cv2.VideoCapture(0)\n",
    "count = 0"
   ]
  },
  {
   "cell_type": "code",
   "execution_count": null,
   "metadata": {},
   "outputs": [],
   "source": [
    "# Collect 100 samples of img ,one who is running this code\n",
    " \n",
    "while True:\n",
    "\n",
    "    ret, frame = cap.read()\n",
    "    if face_cropper(frame) is not None:\n",
    "        count += 1\n",
    "        face = cv2.resize(face_cropper(frame), (200, 200))\n",
    "        face = cv2.cvtColor(face, cv2.COLOR_BGR2GRAY)\n",
    "\n",
    "        # Save file in specified directory with unique name\n",
    "        file_name_path = '../faces/user1/' + str(count) + '.jpg'\n",
    "        cv2.imwrite(file_name_path, face)\n",
    "\n",
    "        # Put count on images and display live count\n",
    "        cv2.putText(face, str(count), (50, 50), cv2.FONT_HERSHEY_COMPLEX, 1, (0,255,0), 2)\n",
    "        cv2.imshow('Face Cropper', face)\n",
    "        \n",
    "    else:\n",
    "        print(\"Face not found\")\n",
    "        pass\n",
    "\n",
    "    if cv2.waitKey(1) == 13 or count == 100: #13 is the Enter Key\n",
    "        break\n",
    "        \n",
    "cap.release()\n",
    "cv2.destroyAllWindows()      \n",
    "print(\"Collecting Samples1 Complete\")"
   ]
  },
  {
   "cell_type": "markdown",
   "metadata": {},
   "source": [
    "### Step 2 - Train Model"
   ]
  },
  {
   "cell_type": "code",
   "execution_count": null,
   "metadata": {},
   "outputs": [],
   "source": [
    "cap.release()"
   ]
  },
  {
   "cell_type": "code",
   "execution_count": null,
   "metadata": {},
   "outputs": [],
   "source": [
    "from os import listdir\n",
    "from os.path import isfile, join"
   ]
  },
  {
   "cell_type": "code",
   "execution_count": null,
   "metadata": {},
   "outputs": [],
   "source": [
    "count = 1\n",
    "face_model=[]\n",
    "while True:\n",
    "    # Get the training data we previously made\n",
    "    data_path = '../faces/user'+str(count)+'/'\n",
    "    onlyfiles = [f for f in listdir(data_path) if isfile(join(data_path, f))]\n",
    "\n",
    "    # Create arrays for training data and labels\n",
    "    Training_Data, Labels = [], []\n",
    "\n",
    "    # Open training images in our datapath\n",
    "    # Create a numpy array for training data\n",
    "    for i, files in enumerate(onlyfiles):\n",
    "        image_path = data_path + onlyfiles[i]\n",
    "        images = cv2.imread(image_path, cv2.IMREAD_GRAYSCALE)\n",
    "        Training_Data.append(np.asarray(images, dtype=np.uint8))\n",
    "        Labels.append(i)\n",
    "\n",
    "    # Create a numpy array for both training data and labels\n",
    "    Labels = np.asarray(Labels, dtype=np.int32)\n",
    "\n",
    "    # Initialize facial recognizer\n",
    "    # model = cv2.face.createLBPHFaceRecognizer()\n",
    "    # NOTE: For OpenCV 3.0 use cv2.face.createLBPHFaceRecognizer()\n",
    "    # pip install opencv-contrib-python\n",
    "    # model = cv2.createLBPHFaceRecognizer()\n",
    "\n",
    "    face_model.append(cv2.face_LBPHFaceRecognizer.create()) \n",
    "    # Let's train our model \n",
    "    face_model[count-1].train(np.asarray(Training_Data), np.asarray(Labels))\n",
    "    print(\"Model\"+str(count)+\" trained sucessefully\")\n",
    "    count = count +1\n",
    "    if(count > 2):#()\n",
    "        break"
   ]
  },
  {
   "cell_type": "markdown",
   "metadata": {},
   "source": [
    "### Step 3 - Action To be Performed"
   ]
  },
  {
   "cell_type": "code",
   "execution_count": null,
   "metadata": {},
   "outputs": [],
   "source": [
    "team_data = [\n",
    "    [\"sksonukushwaha403\",\"+919709331634\",\"@gmail.com\",'sonu'],\n",
    "    [\"smartviveksahu12\",\"+919721938076\",\"@gmail.com\",'vivek'],\n",
    "]"
   ]
  },
  {
   "cell_type": "code",
   "execution_count": null,
   "metadata": {},
   "outputs": [],
   "source": [
    "#Mail\n",
    "import smtplib\n",
    "\n",
    "def mail(i):\n",
    "    try:\n",
    "        s = smtplib.SMTP('smtp.gmail.com', 587)\n",
    "        s.starttls()\n",
    "        s.login(\"lw2253wl@gmail.com\", \"2253bbec\")\n",
    "        message = \"This is face of \"+ team_data[i][3]\n",
    "        s.sendmail(\"lw2253wl@gmail.com\",team_data[i][0]+team_data[i][2], message)\n",
    "        print(\"Mail Sent to, \"+ team_data[i][3])\n",
    "        s.quit()\n",
    "    except:\n",
    "      print(\"An Unexpected Error!\")"
   ]
  },
  {
   "cell_type": "code",
   "execution_count": null,
   "metadata": {},
   "outputs": [],
   "source": [
    "# WhatsApp\n",
    "import pywhatkit\n",
    "import datetime\n",
    "\n",
    "def whatsapp(i):\n",
    "    try:\n",
    "        now = datetime.datetime.now()\n",
    "        hr = int(now.strftime(\"%H\"))\n",
    "        min = int(now.strftime(\"%M\")) + 1\n",
    " \n",
    "        pywhatkit.sendwhatmsg(team_data[i][1], \"Hello from WhatsApp Automation\",hr,min)\n",
    "        print(\"Msg Sent to\"+ team_data[i][3])\n",
    "\n",
    "    except:\n",
    "        print(\"An Unexpected Error!\")"
   ]
  },
  {
   "cell_type": "code",
   "execution_count": null,
   "metadata": {},
   "outputs": [],
   "source": [
    "import os\n",
    "import time\n",
    "\n",
    "def terra():\n",
    "    os.system('terraform init')\n",
    "    os.system('terraform apply --auto-approve')\n",
    "     "
   ]
  },
  {
   "cell_type": "markdown",
   "metadata": {},
   "source": [
    "### Step 4 - Run Our Facial Recognition"
   ]
  },
  {
   "cell_type": "code",
   "execution_count": null,
   "metadata": {},
   "outputs": [],
   "source": [
    "import sys\n",
    "def menu(i):\n",
    "    print('''\n",
    "         **********verified_team_mate************\n",
    "         What action would you like to perform\n",
    "         \n",
    "        1. Whatsapp\n",
    "        2. Email\n",
    "        3. linux_instance(via terraform)\n",
    "         \n",
    "        *****************************************\n",
    "    ''')\n",
    "    inp = int(input(\"Enter Your Choice: \"))\n",
    "    if(inp==1):\n",
    "        whatsapp(i)\n",
    "        sys.exit()\n",
    "    if(inp==2):\n",
    "        mail(i)\n",
    "        sys.exit()\n",
    "    if(inp==3):\n",
    "        terra()\n",
    "        sys.exit()\n",
    "    if(inp==0):\n",
    "        return 0\n",
    "    else:\n",
    "        print(\"Wrong Input!! Try Again....\")\n",
    "        sys.exit()"
   ]
  },
  {
   "cell_type": "code",
   "execution_count": null,
   "metadata": {},
   "outputs": [],
   "source": [
    "# Check Confidence and Display data...\n",
    "def get_confidence(results):\n",
    "    confidence=[]\n",
    "    for i in range(0,2):#()\n",
    "        if results[i][1] < 500:\n",
    "            confidence.append(int( 100 * (1 - (results[i][1])/400) )) \n",
    "    \n",
    "    for i in range(0,2):#()\n",
    "        if confidence[i]>88:\n",
    "            display_string = str(confidence[i]) + '% Confident it is User'\n",
    "            cv2.putText(image, display_string, (100, 120), cv2.FONT_HERSHEY_COMPLEX, 1, (255,120,150), 2)\n",
    "            cv2.putText(image, \"Hey \"+team_data[i][0], (50, 50), cv2.FONT_HERSHEY_COMPLEX, 1, (0,255,0), 2)\n",
    "            cv2.imshow('Face Recognition', image )\n",
    "            menu(i)\n",
    "\n",
    "    else:\n",
    "        cv2.imshow('Face Recognition', image )"
   ]
  },
  {
   "cell_type": "code",
   "execution_count": null,
   "metadata": {
    "scrolled": true
   },
   "outputs": [],
   "source": [
    "import cv2\n",
    "import numpy as np\n",
    "import os\n",
    "\n",
    "face_classifier = cv2.CascadeClassifier('../../haarcascade_frontalface_default.xml')\n",
    "\n",
    "def face_cropper(img, size=0.5):\n",
    "    \n",
    "    # Convert image to grayscale\n",
    "    gray = cv2.cvtColor(img,cv2.COLOR_BGR2GRAY)\n",
    "    faces = face_classifier.detectMultiScale(gray, 1.3, 2)#()\n",
    "    if faces is ():\n",
    "        return img, []    \n",
    "    \n",
    "    for (x,y,w,h) in faces:\n",
    "        cv2.rectangle(img,(x,y),(x+w,y+h),(0,255,255),2)\n",
    "        roi = img[y:y+h, x:x+w]\n",
    "        roi = cv2.resize(roi, (200, 200))\n",
    "    return img, roi\n",
    "\n",
    "\n",
    "# Open Webcam\n",
    "cap = cv2.VideoCapture(0)\n",
    "\n",
    "while True:\n",
    "\n",
    "    ret, frame = cap.read()\n",
    "    \n",
    "    image, face = face_cropper(frame)\n",
    "    \n",
    "    try:\n",
    "        face = cv2.cvtColor(face, cv2.COLOR_BGR2GRAY)\n",
    "        \n",
    "        results=[]\n",
    "        # Pass face to prediction model\n",
    "        # \"results\" comprises of a tuple containing the label and the confidence value\n",
    "        for i in range(0,2):\n",
    "            results.append(face_model[i].predict(face))\n",
    "            \n",
    "        #Get_Confidence\n",
    "        get_confidence(results)\n",
    "\n",
    "    except:\n",
    "        cv2.putText(image, \"No Face Found\", (220, 120) , cv2.FONT_HERSHEY_COMPLEX, 1, (0,0,255), 2)\n",
    "        cv2.imshow('Face Recognition', image )\n",
    "        pass\n",
    "        \n",
    "    if cv2.waitKey(1) == 13: #13 is the Enter Key\n",
    "        break\n",
    "        \n",
    "cap.release()\n",
    "cv2.destroyAllWindows()"
   ]
  },
  {
   "cell_type": "code",
   "execution_count": null,
   "metadata": {},
   "outputs": [],
   "source": []
  }
 ],
 "metadata": {
  "kernelspec": {
   "display_name": "Python 3",
   "language": "python",
   "name": "python3"
  },
  "language_info": {
   "codemirror_mode": {
    "name": "ipython",
    "version": 3
   },
   "file_extension": ".py",
   "mimetype": "text/x-python",
   "name": "python",
   "nbconvert_exporter": "python",
   "pygments_lexer": "ipython3",
   "version": "3.8.5"
  }
 },
 "nbformat": 4,
 "nbformat_minor": 5
}
